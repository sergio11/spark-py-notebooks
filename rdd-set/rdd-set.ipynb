{
 "cells": [
  {
   "cell_type": "markdown",
   "metadata": {},
   "source": [
    "# Set operations on RDDs\n",
    "\n",
    "Spark supports many of the operations we have in mathematical sets, such as union and intersection, even when the RDDs themselves are not properly sets. It is important to note that these operations require that the RDDs being operated on are of the same type.\n",
    "\n",
    "Set operations are quite straightforward to understand as it work as expected. The only consideration comes from the fact that RDDs are not real sets, and therefore operations such as the union of RDDs doesn't remove duplicates. \n",
    "\n",
    "## Getting the data and creating the RDD\n",
    "\n",
    "we will use the reduced dataset (10 percent) provided for the KDD Cup 1999, containing nearly half million network interactions. The file is provided as a Gzip file that we will download locally.\n"
   ]
  },
  {
   "cell_type": "code",
   "execution_count": 1,
   "metadata": {
    "collapsed": true
   },
   "outputs": [],
   "source": [
    "import urllib\n",
    "f = urllib.urlretrieve (\"http://kdd.ics.uci.edu/databases/kddcup99/kddcup.data_10_percent.gz\", \"kddcup.data_10_percent.gz\")"
   ]
  },
  {
   "cell_type": "code",
   "execution_count": 2,
   "metadata": {
    "collapsed": true
   },
   "outputs": [],
   "source": [
    "data_file = \"./kddcup.data_10_percent.gz\"\n",
    "raw_data = sc.textFile(data_file)"
   ]
  },
  {
   "cell_type": "markdown",
   "metadata": {},
   "source": [
    "## Getting attack interactions using subtract\n",
    "\n",
    "\n",
    "We can obtain attack interactions by subtracting normal ones from the original unfiltered RDD as follows."
   ]
  },
  {
   "cell_type": "code",
   "execution_count": 3,
   "metadata": {
    "collapsed": false
   },
   "outputs": [
    {
     "name": "stdout",
     "output_type": "stream",
     "text": [
      "All count in 14.046 secs\n",
      "Normal count in 9.063 secs\n",
      "Attack count in 47.955 secs\n"
     ]
    }
   ],
   "source": [
    "from time import time\n",
    "\n",
    "normal_raw_data = raw_data.filter(lambda x: \"normal.\" in x)\n",
    "attack_raw_data = raw_data.subtract(normal_raw_data)\n",
    "# count all\n",
    "t0 = time()\n",
    "raw_data_count = raw_data.count()\n",
    "tt = time() - t0\n",
    "print \"All count in {} secs\".format(round(tt,3))\n",
    "# count normal\n",
    "t0 = time()\n",
    "normal_raw_data_count = normal_raw_data.count()\n",
    "tt = time() - t0\n",
    "print \"Normal count in {} secs\".format(round(tt,3))\n",
    "# count attacks\n",
    "t0 = time()\n",
    "attack_raw_data_count = attack_raw_data.count()\n",
    "tt = time() - t0\n",
    "print \"Attack count in {} secs\".format(round(tt,3))"
   ]
  },
  {
   "cell_type": "code",
   "execution_count": 4,
   "metadata": {
    "collapsed": false
   },
   "outputs": [
    {
     "name": "stdout",
     "output_type": "stream",
     "text": [
      "There are 97278 normal interactions and 396743 attacks, from a total of 494021 interactions\n"
     ]
    }
   ],
   "source": [
    "print \"There are {} normal interactions and {} attacks, \\\n",
    "from a total of {} interactions\".format(normal_raw_data_count,attack_raw_data_count,raw_data_count)"
   ]
  },
  {
   "cell_type": "markdown",
   "metadata": {},
   "source": [
    "So now we have two RDDs, one with normal interactions and another one with attacks."
   ]
  },
  {
   "cell_type": "markdown",
   "metadata": {},
   "source": [
    "## Protocol and service combinations using cartesian"
   ]
  },
  {
   "cell_type": "markdown",
   "metadata": {},
   "source": [
    "We can compute the Cartesian product between two RDDs by using the **cartesian transformation**. It returns all possible pairs of elements between two RDDs. In our case we will use it to generate all the possible combinations between service and protocol in our network interactions.\n",
    "**First of all we need to isolate each collection of values in two separate RDDs.** For that we will use distinct on the CSV-parsed dataset. From the dataset description we know that protocol is the second column and service is the third (tag is the last one and not the first as appears in the page).\n",
    "\n",
    "So first, let's get the **protocols**."
   ]
  },
  {
   "cell_type": "code",
   "execution_count": 5,
   "metadata": {
    "collapsed": false
   },
   "outputs": [
    {
     "data": {
      "text/plain": [
       "[u'udp', u'icmp', u'tcp']"
      ]
     },
     "execution_count": 5,
     "metadata": {},
     "output_type": "execute_result"
    }
   ],
   "source": [
    "csv_data = raw_data.map(lambda x: x.split(\",\"))\n",
    "protocols = csv_data.map(lambda x: x[1]).distinct()\n",
    "protocols.collect()"
   ]
  },
  {
   "cell_type": "markdown",
   "metadata": {},
   "source": [
    "Now we do the same for **services**."
   ]
  },
  {
   "cell_type": "code",
   "execution_count": 6,
   "metadata": {
    "collapsed": false
   },
   "outputs": [
    {
     "data": {
      "text/plain": [
       "[u'domain',\n",
       " u'http_443',\n",
       " u'Z39_50',\n",
       " u'smtp',\n",
       " u'urp_i',\n",
       " u'private',\n",
       " u'echo',\n",
       " u'shell',\n",
       " u'red_i',\n",
       " u'eco_i',\n",
       " u'sunrpc',\n",
       " u'ftp_data',\n",
       " u'urh_i',\n",
       " u'pm_dump',\n",
       " u'pop_3',\n",
       " u'pop_2',\n",
       " u'systat',\n",
       " u'ftp',\n",
       " u'uucp',\n",
       " u'whois',\n",
       " u'netbios_dgm',\n",
       " u'efs',\n",
       " u'remote_job',\n",
       " u'daytime',\n",
       " u'ntp_u',\n",
       " u'finger',\n",
       " u'ldap',\n",
       " u'netbios_ns',\n",
       " u'kshell',\n",
       " u'iso_tsap',\n",
       " u'ecr_i',\n",
       " u'nntp',\n",
       " u'printer',\n",
       " u'domain_u',\n",
       " u'uucp_path',\n",
       " u'courier',\n",
       " u'exec',\n",
       " u'time',\n",
       " u'netstat',\n",
       " u'telnet',\n",
       " u'gopher',\n",
       " u'rje',\n",
       " u'sql_net',\n",
       " u'link',\n",
       " u'auth',\n",
       " u'netbios_ssn',\n",
       " u'csnet_ns',\n",
       " u'X11',\n",
       " u'IRC',\n",
       " u'tftp_u',\n",
       " u'login',\n",
       " u'supdup',\n",
       " u'name',\n",
       " u'nnsp',\n",
       " u'mtp',\n",
       " u'http',\n",
       " u'bgp',\n",
       " u'ctf',\n",
       " u'hostnames',\n",
       " u'klogin',\n",
       " u'vmnet',\n",
       " u'tim_i',\n",
       " u'discard',\n",
       " u'imap4',\n",
       " u'other',\n",
       " u'ssh']"
      ]
     },
     "execution_count": 6,
     "metadata": {},
     "output_type": "execute_result"
    }
   ],
   "source": [
    "services = csv_data.map(lambda x: x[2]).distinct()\n",
    "services.collect()"
   ]
  },
  {
   "cell_type": "markdown",
   "metadata": {},
   "source": [
    "Now we can do the cartesian product."
   ]
  },
  {
   "cell_type": "code",
   "execution_count": 7,
   "metadata": {
    "collapsed": false
   },
   "outputs": [
    {
     "name": "stdout",
     "output_type": "stream",
     "text": [
      "There are 198 combinations of protocol X service\n"
     ]
    }
   ],
   "source": [
    "product = protocols.cartesian(services).collect()\n",
    "print \"There are {} combinations of protocol X service\".format(len(product))"
   ]
  },
  {
   "cell_type": "markdown",
   "metadata": {},
   "source": [
    "Obviously, for such small RDDs doesn't really make sense to use Spark cartesian product. We could have perfectly collected the values after using distinct and do the cartesian product locally. Moreover, distinct and cartesian are expensive operations so they must be used with care when the operating datasets are large."
   ]
  },
  {
   "cell_type": "code",
   "execution_count": null,
   "metadata": {
    "collapsed": true
   },
   "outputs": [],
   "source": []
  }
 ],
 "metadata": {
  "kernelspec": {
   "display_name": "PySpark (Spark 2.1.0)",
   "language": "python",
   "name": "pyspark"
  },
  "language_info": {
   "codemirror_mode": {
    "name": "ipython",
    "version": 2
   },
   "file_extension": ".py",
   "mimetype": "text/x-python",
   "name": "python",
   "nbconvert_exporter": "python",
   "pygments_lexer": "ipython2",
   "version": "2.7.13"
  }
 },
 "nbformat": 4,
 "nbformat_minor": 2
}
